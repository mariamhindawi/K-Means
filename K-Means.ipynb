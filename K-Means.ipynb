{
 "cells": [
  {
   "cell_type": "markdown",
   "metadata": {},
   "source": [
    "## Imports"
   ]
  },
  {
   "cell_type": "code",
   "execution_count": null,
   "metadata": {},
   "outputs": [],
   "source": [
    "import numpy as np\n",
    "import matplotlib.pyplot as plt\n",
    "%matplotlib inline"
   ]
  },
  {
   "cell_type": "markdown",
   "metadata": {},
   "source": [
    "<hr style=\"border:2px solid black\"> </hr>\n",
    "\n",
    "## Model class and functions"
   ]
  },
  {
   "cell_type": "markdown",
   "metadata": {},
   "source": [
    "Function to get random initial cluster centers"
   ]
  },
  {
   "cell_type": "code",
   "execution_count": null,
   "metadata": {},
   "outputs": [],
   "source": [
    "def get_random_cluster_centers(X, n_clusters):\n",
    "    cluster_centers_indices = []\n",
    "    c = 0\n",
    "    while c < n_clusters:\n",
    "        new_center_index = np.random.randint(0, X.shape[0])\n",
    "        if new_center_index not in cluster_centers_indices:\n",
    "            cluster_centers_indices.append(new_center_index)\n",
    "            c += 1\n",
    "    cluster_centers = []\n",
    "    for i in range(len(cluster_centers_indices)):\n",
    "        cluster_centers.append(X[cluster_centers_indices[i]])\n",
    "    return np.array(cluster_centers)"
   ]
  },
  {
   "cell_type": "markdown",
   "metadata": {},
   "source": [
    "Function to get the distances between 2 points"
   ]
  },
  {
   "cell_type": "code",
   "execution_count": null,
   "metadata": {},
   "outputs": [],
   "source": [
    "def get_distance(p1, p2):\n",
    "    d = p1 - p2\n",
    "    d = np.square(d)\n",
    "    d = np.sum(d)\n",
    "    d = np.sqrt(d)\n",
    "    return d"
   ]
  },
  {
   "cell_type": "markdown",
   "metadata": {},
   "source": [
    "Function to get the distances between points and a cluster center"
   ]
  },
  {
   "cell_type": "code",
   "execution_count": null,
   "metadata": {},
   "outputs": [],
   "source": [
    "def get_distances_to_cluster_center(X, cluster_center):\n",
    "    d = X - cluster_center\n",
    "    d = np.square(d)\n",
    "    d = np.sum(d, axis=1)\n",
    "    d = np.sqrt(d)\n",
    "    return d"
   ]
  },
  {
   "cell_type": "markdown",
   "metadata": {},
   "source": [
    "Function to get the distances between points and all cluster centers"
   ]
  },
  {
   "cell_type": "code",
   "execution_count": null,
   "metadata": {},
   "outputs": [],
   "source": [
    "def get_distances_to_cluster_centers(X, cluster_centers):\n",
    "    distances_to_centers = []\n",
    "    for i in range(cluster_centers.shape[0]):\n",
    "        distances_to_center = get_distances_to_cluster_center(X, cluster_centers[i])\n",
    "        distances_to_centers.append(distances_to_center)\n",
    "    return np.array(distances_to_centers)"
   ]
  },
  {
   "cell_type": "markdown",
   "metadata": {},
   "source": [
    "Function to get the label of the cluster that each point belongs to"
   ]
  },
  {
   "cell_type": "code",
   "execution_count": null,
   "metadata": {},
   "outputs": [],
   "source": [
    "def get_cluster_labels(distances_to_centers):\n",
    "    return np.argmin(distances_to_centers, axis=0)"
   ]
  },
  {
   "cell_type": "code",
   "execution_count": null,
   "metadata": {},
   "outputs": [],
   "source": [
    "def get_x_clusters(X, labels, n_clusters):\n",
    "    X_clusters = []\n",
    "    for i in range(n_clusters):\n",
    "        X_clusters.append([])\n",
    "    for i in range(X.shape[0]):\n",
    "        X_clusters[labels[i]].append(X[i])\n",
    "    for i in range(n_clusters):\n",
    "        X_clusters[i] = np.array(X_clusters[i])\n",
    "    return X_clusters"
   ]
  },
  {
   "cell_type": "markdown",
   "metadata": {},
   "source": [
    "Function to get the centers of the clusters based on the labels"
   ]
  },
  {
   "cell_type": "code",
   "execution_count": null,
   "metadata": {},
   "outputs": [],
   "source": [
    "def get_clusters_centers(X, labels, n_clusters):\n",
    "    X_clusters = get_x_clusters(X, labels, n_clusters)\n",
    "    cluster_centers = []\n",
    "    for i in range(n_clusters):\n",
    "        cluster_center = np.mean(X_clusters[i], axis=0)\n",
    "        cluster_centers.append(cluster_center)\n",
    "    return np.array(cluster_centers)"
   ]
  },
  {
   "cell_type": "markdown",
   "metadata": {},
   "source": [
    "Function to calculate the DBI of the clustering result"
   ]
  },
  {
   "cell_type": "code",
   "execution_count": null,
   "metadata": {},
   "outputs": [],
   "source": [
    "def calculate_DBI(X, labels, cluster_centers):\n",
    "    n_clusters = cluster_centers.shape[0]\n",
    "    X_clusters = get_x_clusters(X, labels, n_clusters)\n",
    "\n",
    "    s = []\n",
    "    for i in range(n_clusters):\n",
    "        distances_to_center = get_distances_to_cluster_center(X_clusters[i], cluster_centers[i])\n",
    "        s_i = np.sum(distances_to_center) / (X_clusters[i].shape[0])\n",
    "        s.append(s_i)\n",
    "    \n",
    "    r = []\n",
    "    for i in range(n_clusters):\n",
    "        r_i = []\n",
    "        for j in range(n_clusters):\n",
    "            if i < j:\n",
    "                d_ij = get_distance(cluster_centers[i], cluster_centers[j])\n",
    "                r_ij = (s[i] + s[j]) / d_ij\n",
    "            elif i > j:\n",
    "                r_ij = r[j][i]\n",
    "            else:\n",
    "                r_ij = -np.inf\n",
    "            r_i.append(r_ij)\n",
    "        r.append(r_i)\n",
    "    \n",
    "    dbi = 0\n",
    "    for i in range(n_clusters):\n",
    "        dbi += np.amax(r[i])\n",
    "    dbi /= n_clusters\n",
    "    \n",
    "    return dbi"
   ]
  },
  {
   "cell_type": "markdown",
   "metadata": {},
   "source": [
    "Function to get the confusion matrix"
   ]
  },
  {
   "cell_type": "code",
   "execution_count": null,
   "metadata": {},
   "outputs": [],
   "source": [
    "def get_confusion_matrix(Y_test, Y_predict, labels):\n",
    "    number_of_classes = len(labels)\n",
    "    confusion_matrix = np.zeros((number_of_classes, number_of_classes))\n",
    "    for i in range(len(Y_test)):\n",
    "        row = labels.index(Y_test[i])\n",
    "        column = labels.index(Y_predict[i])\n",
    "        confusion_matrix[row][column] += 1\n",
    "    return confusion_matrix"
   ]
  },
  {
   "cell_type": "markdown",
   "metadata": {},
   "source": [
    "K-means model class"
   ]
  },
  {
   "cell_type": "code",
   "execution_count": null,
   "metadata": {},
   "outputs": [],
   "source": [
    "class KMeans:\n",
    "    def __init__(self):\n",
    "        self.labels = []\n",
    "        self.cluster_centers = []\n",
    "    \n",
    "    def fit(self, X, n_clusters): \n",
    "        cluster_centers = get_random_cluster_centers(X, n_clusters)\n",
    "        while True:\n",
    "            distances_to_centers = get_distances_to_cluster_centers(X, cluster_centers)\n",
    "            labels = get_cluster_labels(distances_to_centers)\n",
    "            new_cluster_centers = get_clusters_centers(X, labels, n_clusters)\n",
    "            if np.array_equal(new_cluster_centers, cluster_centers):\n",
    "                break\n",
    "            cluster_centers = new_cluster_centers\n",
    "        self.labels = labels\n",
    "        self.cluster_centers = cluster_centers"
   ]
  },
  {
   "cell_type": "markdown",
   "metadata": {},
   "source": [
    "K-means classifier class:"
   ]
  },
  {
   "cell_type": "code",
   "execution_count": null,
   "metadata": {},
   "outputs": [],
   "source": [
    "class KMeansClassifier:\n",
    "    def __init__(self):\n",
    "        self.labels = []\n",
    "        self.cluster_centers = []\n",
    "        self.max_counts = []\n",
    "    \n",
    "    def fit(self, X, Y, labels, n_clusters):\n",
    "        model = KMeans()\n",
    "        model.fit(X, n_clusters)\n",
    "        self.fit_centers(X, Y, labels, model.labels, model.cluster_centers)\n",
    "\n",
    "    def fit_centers(self, X, Y, labels, cluster_labels, cluster_centers):\n",
    "        X_classes = []\n",
    "        X_classes_cluster_labels = []\n",
    "        for i in range(len(labels)):\n",
    "            X_classes.append([])\n",
    "            X_classes_cluster_labels.append([])\n",
    "        for i in range(X.shape[0]):\n",
    "            for j in range(len(labels)):\n",
    "                if Y[i] == labels[j]:\n",
    "                    X_classes[j].append(X[i])\n",
    "                    X_classes_cluster_labels[j].append(cluster_labels[i])\n",
    "                    break\n",
    "\n",
    "        classes_cluster_centers = []\n",
    "        max_counts = []\n",
    "        for i in range(len(labels)):\n",
    "            class_counts = np.zeros(len(labels), dtype=np.uint16)\n",
    "            for j in range(len(X_classes[i])):\n",
    "                cluster_label = X_classes_cluster_labels[i][j]\n",
    "                class_counts[cluster_label] += 1\n",
    "            class_cluster = np.argmax(class_counts)\n",
    "            classes_cluster_centers.append(cluster_centers[class_cluster])\n",
    "            max_counts.append(class_counts[class_cluster])\n",
    "        \n",
    "        self.labels = labels\n",
    "        self.cluster_centers= np.array(classes_cluster_centers)\n",
    "        self.max_counts= np.array(max_counts)\n",
    "\n",
    "    def predict(self, X):\n",
    "        distances_to_centers = get_distances_to_cluster_centers(X, self.cluster_centers)\n",
    "        target_values = np.argmin(distances_to_centers, axis=0)\n",
    "        Y_predict = []\n",
    "        for i in range(len(target_values)):\n",
    "            Y_predict.append(self.labels[target_values[i]])\n",
    "        return Y_predict"
   ]
  },
  {
   "cell_type": "markdown",
   "metadata": {},
   "source": [
    "<hr style=\"border:2px solid black\"> </hr>\n",
    "\n",
    "## Getting the images and their labels"
   ]
  },
  {
   "cell_type": "markdown",
   "metadata": {},
   "source": [
    "Read training and testing images"
   ]
  },
  {
   "cell_type": "code",
   "execution_count": null,
   "metadata": {},
   "outputs": [],
   "source": [
    "airplane_train_images = np.array([plt.imread(\"Data/Train/airplane/\"+str(i)+\".jpg\") for i in range(0, 5000)], dtype=np.int64)\n",
    "bird_train_images = np.array([plt.imread(\"Data/Train/bird/\"+str(i)+\".jpg\") for i in range(0, 5000)], dtype=np.int64)\n",
    "truck_train_images = np.array([plt.imread(\"Data/Train/truck/\"+str(i)+\".jpg\") for i in range(0, 5000)], dtype=np.int64)\n",
    "\n",
    "airplane_test_images = np.array([plt.imread(\"Data/Test/airplane/\"+str(i)+\".jpg\") for i in range(0, 1000)], dtype=np.int64)\n",
    "bird_test_images = np.array([plt.imread(\"Data/Test/bird/\"+str(i)+\".jpg\") for i in range(0, 1000)], dtype=np.int64)\n",
    "truck_test_images = np.array([plt.imread(\"Data/Test/truck/\"+str(i)+\".jpg\") for i in range(0, 1000)], dtype=np.int64)"
   ]
  },
  {
   "cell_type": "markdown",
   "metadata": {},
   "source": [
    "Transforming the images into feature vectors"
   ]
  },
  {
   "cell_type": "code",
   "execution_count": null,
   "metadata": {},
   "outputs": [],
   "source": [
    "X_airplane_train = np.array([airplane_train_images[i].reshape(-1) for i in range(0, airplane_train_images.shape[0])])\n",
    "X_bird_train = np.array([bird_train_images[i].reshape(-1) for i in range(0, bird_train_images.shape[0])])\n",
    "X_truck_train = np.array([truck_train_images[i].reshape(-1) for i in range(0, truck_train_images.shape[0])])\n",
    "\n",
    "X_airplane_test = np.array([airplane_test_images[i].reshape(-1) for i in range(0, airplane_test_images.shape[0])])\n",
    "X_bird_test = np.array([bird_test_images[i].reshape(-1) for i in range(0, bird_test_images.shape[0])])\n",
    "X_truck_test = np.array([truck_test_images[i].reshape(-1) for i in range(0, truck_test_images.shape[0])])\n",
    "\n",
    "X_train = np.concatenate((X_airplane_train, X_bird_train, X_truck_train))\n",
    "X_test = np.concatenate((X_airplane_test, X_bird_test, X_truck_test))"
   ]
  },
  {
   "cell_type": "markdown",
   "metadata": {},
   "source": [
    "Getting labels for all the classes train and test data"
   ]
  },
  {
   "cell_type": "code",
   "execution_count": null,
   "metadata": {},
   "outputs": [],
   "source": [
    "Y_train = [\"airplane\" for i in range(airplane_train_images.shape[0])]\n",
    "Y_train += [\"bird\" for i in range(bird_train_images.shape[0])]\n",
    "Y_train += [\"truck\" for i in range(truck_train_images.shape[0])]\n",
    "\n",
    "Y_test = [\"airplane\" for i in range(airplane_test_images.shape[0])]\n",
    "Y_test += [\"bird\" for i in range(bird_test_images.shape[0])]\n",
    "Y_test += [\"truck\" for i in range(truck_test_images.shape[0])]\n",
    "\n",
    "labels = [\"airplane\", \"bird\", \"truck\"]"
   ]
  },
  {
   "cell_type": "markdown",
   "metadata": {},
   "source": [
    "<hr style=\"border:2px solid black\"> </hr>\n",
    "\n",
    "## Training and testing the models"
   ]
  },
  {
   "cell_type": "markdown",
   "metadata": {},
   "source": [
    "Running K-means multiple times with random initilizations"
   ]
  },
  {
   "cell_type": "code",
   "execution_count": null,
   "metadata": {},
   "outputs": [],
   "source": [
    "models = []\n",
    "dbi_values = []\n",
    "for i in range(10):\n",
    "    model = KMeans()\n",
    "    model.fit(X_train, n_clusters=3)\n",
    "    models.append(model)\n",
    "    dbi = calculate_DBI(X_train, model.labels, model.cluster_centers)\n",
    "    dbi_values.append(dbi)"
   ]
  },
  {
   "cell_type": "markdown",
   "metadata": {},
   "source": [
    "Getting the model with the lowest DBI value"
   ]
  },
  {
   "cell_type": "code",
   "execution_count": null,
   "metadata": {},
   "outputs": [],
   "source": [
    "best_model = models[np.argmin(dbi_values)]"
   ]
  },
  {
   "cell_type": "markdown",
   "metadata": {},
   "source": [
    "Create and test a K-means classifier"
   ]
  },
  {
   "cell_type": "code",
   "execution_count": null,
   "metadata": {},
   "outputs": [],
   "source": [
    "classifier = KMeansClassifier()\n",
    "classifier.fit_centers(X_train, Y_train, labels, best_model.labels, best_model.cluster_centers)\n",
    "Y_predict = classifier.predict(X_test)"
   ]
  },
  {
   "cell_type": "markdown",
   "metadata": {},
   "source": [
    "<hr style=\"border:2px solid black\"> </hr>\n",
    "\n",
    "## Plotting the results"
   ]
  },
  {
   "cell_type": "code",
   "execution_count": null,
   "metadata": {},
   "outputs": [],
   "source": [
    "max_counts = classifier.max_counts\n",
    "confusion_matrix = get_confusion_matrix(Y_test, Y_predict, labels)"
   ]
  },
  {
   "cell_type": "code",
   "execution_count": null,
   "metadata": {},
   "outputs": [],
   "source": [
    "plt.figure(figsize=(10,6))\n",
    "plt.plot(['Airplane','Bird','Truck'],max_counts,'-o')\n",
    "plt.title('Best Counts')\n",
    "plt.savefig(\"figure_best_counts\")"
   ]
  },
  {
   "cell_type": "code",
   "execution_count": null,
   "metadata": {},
   "outputs": [],
   "source": [
    "plt.rc('figure', figsize=[5,5])\n",
    "plt.matshow(confusion_matrix,cmap=\"Blues\")\n",
    "for i in range(0,confusion_matrix.shape[0]):\n",
    "    for j in range(0,confusion_matrix.shape[1]):\n",
    "        plt.annotate(confusion_matrix[i,j],(j,i))\n",
    "plt.savefig(\"figure_confusion_matrix\")"
   ]
  }
 ],
 "metadata": {
  "interpreter": {
   "hash": "31f2aee4e71d21fbe5cf8b01ff0e069b9275f58929596ceb00d14d90e3e16cd6"
  },
  "kernelspec": {
   "display_name": "Python 3",
   "language": "python",
   "name": "python3"
  },
  "language_info": {
   "codemirror_mode": {
    "name": "ipython",
    "version": 3
   },
   "file_extension": ".py",
   "mimetype": "text/x-python",
   "name": "python",
   "nbconvert_exporter": "python",
   "pygments_lexer": "ipython3",
   "version": "3.8.12"
  }
 },
 "nbformat": 4,
 "nbformat_minor": 4
}
